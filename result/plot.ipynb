{
 "cells": [
  {
   "cell_type": "code",
   "execution_count": 18,
   "metadata": {
    "scrolled": false
   },
   "outputs": [
    {
     "data": {
      "image/png": "[encoded data removed]",
      "text/plain": [
       "<Figure size 432x288 with 1 Axes>"
      ]
     },
     "metadata": {
      "needs_background": "light"
     },
     "output_type": "display_data"
    }
   ],
   "source": [
    "import pandas as pd\n",
    "import numpy as np\n",
    "import matplotlib.pyplot as plt\n",
    "import seaborn as sns\n",
    "\n",
    "# Read in the saved CSV data.\n",
    "benchmark_data = pd.read_csv('results.csv', header=0, names=['name', 'time', 'range'])\n",
    "\n",
    "# Go stores benchmark results in nanoseconds. Convert all results to seconds.\n",
    "benchmark_data['time'] /= 1e+9\n",
    "\n",
    "# Use the name of the benchmark to extract the length of the array.\n",
    "benchmark_data['array_length'] = benchmark_data['name'].str.extract('(\\d+)').apply(pd.to_numeric)\n",
    "\n",
    "# Use the name of the benchmark to extract the type of code (sequential or parallel).\n",
    "benchmark_data['type'] = benchmark_data['name'].str.extract('(\\w+)/')\n",
    "\n",
    "# Plot a bar chart.\n",
    "ax = sns.barplot(data=benchmark_data, x='array_length', y='time', hue='type')\n",
    "\n",
    "# Set descriptive axis lables.\n",
    "ax.set(xlabel='Number of Threads', ylabel='Time taken (s)')\n",
    "\n",
    "# Display the full figure.\n",
    "plt.show()"
   ]
  },
  {
   "cell_type": "code",
   "execution_count": null,
   "metadata": {},
   "outputs": [],
   "source": []
  }
 ],
 "metadata": {
  "kernelspec": {
   "display_name": "Python 3",
   "language": "python",
   "name": "python3"
  },
  "language_info": {
   "codemirror_mode": {
    "name": "ipython",
    "version": 3
   },
   "file_extension": ".py",
   "mimetype": "text/x-python",
   "name": "python",
   "nbconvert_exporter": "python",
   "pygments_lexer": "ipython3",
   "version": "3.8.5"
  },
  "vscode": {
   "interpreter": {
    "hash": "4bfed72461f9d616d55bcf2eaf5c9471ce8492b2229358f73742923902e14bd4"
   }
  }
 },
 "nbformat": 4,
 "nbformat_minor": 4
}
