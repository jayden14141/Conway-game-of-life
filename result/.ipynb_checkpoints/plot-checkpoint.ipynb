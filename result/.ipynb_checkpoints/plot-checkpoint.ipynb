{
 "cells": [
  {
   "cell_type": "code",
   "execution_count": null,
   "metadata": {
    "scrolled": false
   },
   "outputs": [
    {
     "ename": "",
     "evalue": "",
     "output_type": "error",
     "traceback": [
      "\u001b[1;31mFailed to start the Kernel. \n",
      "\u001b[1;31mCommand \"python setup.py egg_info\" failed with error code 1 in /tmp/pip-build-hawgopn3/argon2-cffi-bindings/. \n",
      "\u001b[1;31mView Jupyter <a href='command:jupyter.viewOutput'>log</a> for further details."
     ]
    }
   ],
   "source": [
    "import pandas as pd\n",
    "import numpy as np\n",
    "import matplotlib.pyplot as plt\n",
    "import seaborn as sns\n",
    "\n",
    "# Read in the saved CSV data.\n",
    "benchmark_data = pd.read_csv('results.csv', header=0, names=['name', 'time', 'range'])\n",
    "\n",
    "# Go stores benchmark results in nanoseconds. Convert all results to seconds.\n",
    "benchmark_data['time'] /= 1e+9\n",
    "\n",
    "# Use the name of the benchmark to extract the length of the array.\n",
    "benchmark_data['array_length'] = benchmark_data['name'].str.extract('(\\d+)').apply(pd.to_numeric)\n",
    "\n",
    "# Use the name of the benchmark to extract the type of code (sequential or parallel).\n",
    "benchmark_data['type'] = benchmark_data['name'].str.extract('(\\w+)/')\n",
    "\n",
    "# Plot a bar chart.\n",
    "ax = sns.barplot(data=benchmark_data, x='array_length', y='time', hue='type')\n",
    "\n",
    "# Set descriptive axis lables.\n",
    "ax.set(xlabel='Number of Threads', ylabel='Time taken (s)')\n",
    "\n",
    "# Display the full figure.\n",
    "plt.show()"
   ]
  },
  {
   "cell_type": "code",
   "execution_count": null,
   "metadata": {},
   "outputs": [
    {
     "ename": "",
     "evalue": "",
     "output_type": "error",
     "traceback": [
      "\u001b[1;31mFailed to start the Kernel. \n",
      "\u001b[1;31mCommand \"python setup.py egg_info\" failed with error code 1 in /tmp/pip-build-hawgopn3/argon2-cffi-bindings/. \n",
      "\u001b[1;31mView Jupyter <a href='command:jupyter.viewOutput'>log</a> for further details."
     ]
    }
   ],
   "source": []
  }
 ],
 "metadata": {
  "kernelspec": {
   "display_name": "Python 3.6.8 64-bit",
   "language": "python",
   "name": "python3"
  },
  "language_info": {
   "codemirror_mode": {
    "name": "ipython",
    "version": 3
   },
   "file_extension": ".py",
   "mimetype": "text/x-python",
   "name": "python",
   "nbconvert_exporter": "python",
   "pygments_lexer": "ipython3",
   "version": "3.6.8"
  },
  "vscode": {
   "interpreter": {
    "hash": "916dbcbb3f70747c44a77c7bcd40155683ae19c65e1c03b4aa3499c5328201f1"
   }
  }
 },
 "nbformat": 4,
 "nbformat_minor": 4
}
